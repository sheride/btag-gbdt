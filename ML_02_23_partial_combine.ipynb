{
 "cells": [
  {
   "cell_type": "markdown",
   "id": "e30c8a47-ac33-49d6-8b80-2bc2a3b73bfb",
   "metadata": {},
   "source": [
    "The root file associated with this notebook contains jets from $t\\bar{t}h \\to bb$ and $Z' \\to b\\bar{b}$"
   ]
  },
  {
   "cell_type": "markdown",
   "id": "c0070033-c6e7-4178-978d-0fa6a88d234f",
   "metadata": {
    "tags": []
   },
   "source": [
    "# Imports and Variable Definitions"
   ]
  },
  {
   "cell_type": "code",
   "execution_count": 1,
   "id": "1fc0b934-02d1-46c5-a582-2ccde033e779",
   "metadata": {},
   "outputs": [],
   "source": [
    "import uproot\n",
    "import numpy as np\n",
    "import awkward as ak\n",
    "from sklearn.preprocessing import StandardScaler\n",
    "from sklearn.pipeline import make_pipeline\n",
    "from xgboost import XGBClassifier\n",
    "from datetime import datetime\n",
    "from sklearn.model_selection import train_test_split\n",
    "from sklearn.metrics import accuracy_score\n",
    "import bcml4pheno\n",
    "import scipy\n",
    "import math\n",
    "import matplotlib.pyplot as plt\n",
    "from timeit import default_timer as timer"
   ]
  },
  {
   "cell_type": "code",
   "execution_count": 2,
   "id": "6b0c38f7-1dd9-479e-8b48-cce5c467db30",
   "metadata": {
    "tags": []
   },
   "outputs": [],
   "source": [
    "# variables we want histos for\n",
    "orig_variables = ['jet_pt', 'jet_eta',\n",
    "    'nCpfcand','nNpfcand',\n",
    "    'nsv','npv',\n",
    "    'TagVarCSV_trackSumJetEtRatio',\n",
    "    'TagVarCSV_trackSumJetDeltaR',\n",
    "    'TagVarCSV_vertexCategory',\n",
    "    'TagVarCSV_trackSip2dValAboveCharm',\n",
    "    'TagVarCSV_trackSip2dSigAboveCharm',\n",
    "    'TagVarCSV_trackSip3dValAboveCharm',\n",
    "    'TagVarCSV_trackSip3dSigAboveCharm',\n",
    "    'TagVarCSV_jetNSelectedTracks',\n",
    "    'TagVarCSV_jetNTracksEtaRel'] + ['Cpfcan_BtagPf_trackEtaRel',\n",
    "    'Cpfcan_BtagPf_trackPtRel',\n",
    "    'Cpfcan_BtagPf_trackPPar',\n",
    "    'Cpfcan_BtagPf_trackDeltaR',\n",
    "    'Cpfcan_BtagPf_trackPParRatio',\n",
    "    'Cpfcan_BtagPf_trackSip2dVal',\n",
    "    'Cpfcan_BtagPf_trackSip2dSig',\n",
    "    'Cpfcan_BtagPf_trackSip3dVal',\n",
    "    'Cpfcan_BtagPf_trackSip3dSig',\n",
    "    'Cpfcan_BtagPf_trackJetDistVal',\n",
    "    'Cpfcan_ptrel',\n",
    "    'Cpfcan_drminsv',\n",
    "    'Cpfcan_VTX_ass',\n",
    "    'Cpfcan_puppiw',\n",
    "    'Cpfcan_chi2',\n",
    "    'Cpfcan_quality'] + ['Npfcan_ptrel',\n",
    "    'Npfcan_deltaR','Npfcan_isGamma',\n",
    "    'Npfcan_HadFrac','Npfcan_drminsv',\n",
    "    'Npfcan_puppiw'] + ['sv_pt','sv_deltaR',\n",
    "    'sv_mass',\n",
    "    'sv_ntracks',\n",
    "    'sv_chi2',\n",
    "    'sv_normchi2',\n",
    "    'sv_dxy',\n",
    "    'sv_dxysig',\n",
    "    'sv_d3d',\n",
    "    'sv_d3dsig',\n",
    "    'sv_costhetasvpv',\n",
    "    'sv_enratio']\n",
    "new_variables = [\n",
    "    'numberOfValidHits',\n",
    "    'numberOfValidTrackerHits',\n",
    "    'numberOfValidPixelHits',\n",
    "    'numberOfValidPixelBarrelHits',\n",
    "    'numberOfValidPixelEndcapHits',\n",
    "    'numberOfValidStripHits',\n",
    "    'numberOfValidStripTIBHits',\n",
    "    'numberOfValidStripTIDHits',\n",
    "    'numberOfValidStripTOBHits',\n",
    "    'numberOfValidStripTECHits',\n",
    "    'numberOfMuonHits',\n",
    "    'numberOfValidMuonHits',\n",
    "    'numberOfValidMuonDTHits',\n",
    "    'numberOfValidMuonCSCHits',\n",
    "    'numberOfValidMuonRPCHits',\n",
    "    'numberOfValidMuonGEMHits',\n",
    "    'numberOfValidMuonME0Hits',\n",
    "    'numberOfLostMuonHits',\n",
    "    'numberOfLostMuonDTHits',\n",
    "    'numberOfLostMuonCSCHits',\n",
    "    'numberOfLostMuonRPCHits',\n",
    "    'numberOfLostMuonGEMHits',\n",
    "    'numberOfLostMuonME0Hits',\n",
    "    'numberOfBadHits',\n",
    "    'numberOfBadMuonHits',\n",
    "    'numberOfBadMuonDTHits',\n",
    "    'numberOfBadMuonCSCHits',\n",
    "    'numberOfBadMuonRPCHits',\n",
    "    'numberOfBadMuonGEMHits',\n",
    "    'numberOfBadMuonME0Hits',\n",
    "    'numberOfInactiveHits',\n",
    "    'numberOfInactiveTrackerHits',\n",
    "    'numberOfValidStripLayersWithMonoAndStereo',\n",
    "    'numberOfValidTOBLayersWithMonoAndStereo',\n",
    "    'numberOfValidTIBLayersWithMonoAndStereo',\n",
    "    'numberOfValidTIDLayersWithMonoAndStereo',\n",
    "    'numberOfValidTECLayersWithMonoAndStereo',\n",
    "    'trackerLayersWithMeasurementOld',\n",
    "    'trackerLayersWithMeasurement',\n",
    "    'pixelLayersWithMeasurementOld',\n",
    "    'pixelLayersWithMeasurement',\n",
    "    'stripLayersWithMeasurement',\n",
    "    'pixelBarrelLayersWithMeasurement',\n",
    "    'pixelEndcapLayersWithMeasurement',\n",
    "    'stripTIBLayersWithMeasurement',\n",
    "    'stripTIDLayersWithMeasurement',\n",
    "    'stripTOBLayersWithMeasurement',\n",
    "    'stripTECLayersWithMeasurement',\n",
    "    'trackerLayersTotallyOffOrBad',\n",
    "    'pixelLayersTotallyOffOrBad',\n",
    "    'stripLayersTotallyOffOrBad',\n",
    "    'pixelBarrelLayersTotallyOffOrBad',\n",
    "    'pixelEndcapLayersTotallyOffOrBad',\n",
    "    'stripTIBLayersTotallyOffOrBad',\n",
    "    'stripTIDLayersTotallyOffOrBad',\n",
    "    'stripTOBLayersTotallyOffOrBad',\n",
    "    'stripTECLayersTotallyOffOrBad',\n",
    "    'trackerLayersNull',\n",
    "    'pixelLayersNull',\n",
    "    'stripLayersNull',\n",
    "    'pixelBarrelLayersNull',\n",
    "    'pixelEndcapLayersNull',\n",
    "    'stripTIBLayersNull',\n",
    "    'stripTIDLayersNull',\n",
    "    'stripTOBLayersNull',\n",
    "    'stripTECLayersNull',\n",
    "]\n",
    "total_variables = orig_variables + new_variables"
   ]
  },
  {
   "cell_type": "code",
   "execution_count": 3,
   "id": "e85c91a0-a989-43e2-9d2a-48b59bbf2081",
   "metadata": {},
   "outputs": [],
   "source": [
    "# aesthetic matplotlib settings\n",
    "settings = {'axes.labelsize': 32,\n",
    "            'axes.titlesize' : 40,\n",
    "            'figure.titlesize' : 40,\n",
    "            'xtick.major.size': 10,\n",
    "            'xtick.major.width': 1.5,\n",
    "            'xtick.labelsize': 24,\n",
    "            'ytick.major.size': 10,\n",
    "            'ytick.major.width': 1.5,\n",
    "            'ytick.labelsize': 24,\n",
    "            'legend.fontsize': 18,\n",
    "            'axes.titlesize': 48,\n",
    "            'lines.linewidth': 4,\n",
    "            'lines.markersize': 10,\n",
    "            'figure.figsize': (15,10)}"
   ]
  },
  {
   "cell_type": "markdown",
   "id": "91472299-055f-4b3b-9518-6f6f56c24685",
   "metadata": {
    "tags": []
   },
   "source": [
    "# ROOT -> Numpy Functions"
   ]
  },
  {
   "cell_type": "markdown",
   "id": "7bf91ac8-6f0d-42fb-8a77-9957622712f8",
   "metadata": {},
   "source": [
    "Accepts 2D awkward array `array` (2nd axis is variable length), extends each row with `value` until it is at least length `target`."
   ]
  },
  {
   "cell_type": "code",
   "execution_count": 4,
   "id": "00820062-99a5-4f8d-a5a4-2e0d35ecdadf",
   "metadata": {},
   "outputs": [],
   "source": [
    "def pad(array, target, value=-100):\n",
    "    # note default axis of pad_none, fill_none = 1\n",
    "    return ak.fill_none(ak.pad_none(array, target=target), value=value, axis=None)"
   ]
  },
  {
   "cell_type": "code",
   "execution_count": 5,
   "id": "0ab66f64-36ce-4830-841e-9b0c6033c90d",
   "metadata": {},
   "outputs": [],
   "source": [
    "# could use some optimization: pass lists of indices of scalar vars, vector vars, and do all at once?\n",
    "def dataFromROOT(root_file, sort_var, variables, key, N=5):\n",
    "    with uproot.open(root_file) as file:\n",
    "        tree = file[key]\n",
    "        data = [ak.to_numpy(tree[variables[0]].array())] # using the fact that first, jet_pt, is scalar\n",
    "        length = data[0].shape[0]\n",
    "        max_tracks = ak.max(tree['nCpfcand'].array()) # ith element is num. constituents in jet -> length of vector-valued vars\n",
    "        impact_params = pad(tree[sort_var].array(), target=max_tracks, value=0) # num. jets x max_tracks, impact parameters padded with 0\n",
    "        indices = np.argsort(-np.abs(ak.to_numpy(impact_params)))[:,:N] # num. jets x N, each row is indices of N constituents with greatest impact parameters\n",
    "        # stacking on data, variable by variable\n",
    "        for variables in variables[1:]:\n",
    "            if type(tree[variables].array()[0]) == ak.highlevel.Array:\n",
    "                data = np.concatenate(\n",
    "                    (data, \n",
    "                     [ak.to_numpy(pad(tree[variables].array(), target=max_tracks)[np.arange(0,length,1),row]) \n",
    "                      for row in np.transpose(indices)]))\n",
    "            else:\n",
    "                data = np.concatenate((data, [ak.to_numpy(tree[variables].array())]))\n",
    "    return np.transpose(data) # want rows to be jets, not variables"
   ]
  },
  {
   "cell_type": "code",
   "execution_count": 6,
   "id": "fd6c58b7-9b32-45bd-96a6-986e132ecf54",
   "metadata": {
    "tags": []
   },
   "outputs": [],
   "source": [
    "def getFeatureNames(root_file, key, variables, N=5):\n",
    "    scalar = []\n",
    "    vector = []\n",
    "    with uproot.open(root_file) as file:\n",
    "        tree = file[key]\n",
    "        for var in variables:\n",
    "            if type(tree[var].array()[0]) == ak.highlevel.Array:\n",
    "                vector.append(var)\n",
    "            else:\n",
    "                scalar.append(var)\n",
    "\n",
    "    ml_feature_names = []\n",
    "    for var in variables:\n",
    "        if var in scalar:\n",
    "            ml_feature_names.append(var)\n",
    "        else:\n",
    "            ml_feature_names.extend([var + f'_{i+1}' for i in range(N)])\n",
    "    print(f'scalar: {len(scalar)}, vector: {len(vector)}')\n",
    "    return ml_feature_names"
   ]
  },
  {
   "cell_type": "code",
   "execution_count": 7,
   "id": "85a04dbe-7d78-4e87-9c50-0c710714d7a9",
   "metadata": {},
   "outputs": [],
   "source": [
    "def getSigBgIndices(root_file, key):\n",
    "    with uproot.open(root_file) as file:\n",
    "        tree = file[key]\n",
    "        sigInd = np.where(tree['isB'].array() == 1)[0]\n",
    "        bgInd = np.concatenate(\n",
    "                (np.where(tree['isG'].array() == 1)[0], \n",
    "                 np.where(tree['isUD'].array() == 1)[0],\n",
    "                 np.where(tree['isS'].array() == 1)[0]))\n",
    "    return [sigInd, bgInd]"
   ]
  },
  {
   "cell_type": "markdown",
   "id": "80439a31-df84-4da0-b6b7-55e3fad761cc",
   "metadata": {
    "tags": []
   },
   "source": [
    "# Importing/Setting Up Data"
   ]
  },
  {
   "cell_type": "code",
   "execution_count": 8,
   "id": "0709b566-88de-4a95-871e-a4b09fc76e82",
   "metadata": {},
   "outputs": [],
   "source": [
    "root_file = 'ttHJetTobb_18Feb22_hitpatterVars_3X_zprrime2TeVTobb_18Feb22_hitpatterVars_ALL.root'\n",
    "N = 5"
   ]
  },
  {
   "cell_type": "code",
   "execution_count": 9,
   "id": "52ba5fdd-44e7-4348-9dad-4804fb9257fa",
   "metadata": {},
   "outputs": [
    {
     "name": "stdout",
     "output_type": "stream",
     "text": [
      "Keys in ROOT file: ['deepntuplizer;1', 'deepntuplizer/tree;1']\n",
      "Number of variables in file[\"deepntuplizer/tree;1\"]: 260\n",
      "Number of scalar variables: 88\n",
      "Number of (variable-length) vector variables: 172\n",
      "Number of features if 5 scalars kept from each vector variable: 948\n",
      "duration: 0.74 min\n"
     ]
    }
   ],
   "source": [
    "t1 = timer()\n",
    "with uproot.open(root_file) as file:\n",
    "    keys = file.keys()\n",
    "    print(f'Keys in ROOT file: {keys}')\n",
    "    key = keys[1]\n",
    "    print(f'Number of variables in file[\"{key}\"]: {len(file[key])}')\n",
    "    vector_vars = [k for k in file[key].keys() if type(file[key][k].array()[0]) == ak.highlevel.Array]\n",
    "    scalar_vars = [k for k in file[key].keys() if k not in vector_vars]\n",
    "    print(f'Number of scalar variables: {len(scalar_vars)}')\n",
    "    print(f'Number of (variable-length) vector variables: {len(vector_vars)}')\n",
    "    print(f'Number of features if {N} scalars kept from each vector variable: {len(scalar_vars) + N * len(vector_vars)}')\n",
    "t2 = timer()\n",
    "print(f'duration: {round((t2-t1)/60,2)} min')"
   ]
  },
  {
   "cell_type": "code",
   "execution_count": 10,
   "id": "e8b76c0c-77d8-4275-9a2f-15d62b50f6cb",
   "metadata": {},
   "outputs": [
    {
     "name": "stdout",
     "output_type": "stream",
     "text": [
      "Num. variables in orig_variables: 49\n",
      "Num. scalar variables in orig_variables: 15\n",
      "Num. vector variables in orig_variables: 34\n",
      "Num. of features if 5 scalars kept from each vector variable: 185\n",
      "\n",
      "Num. variables in new_variables: 66\n",
      "Num. scalar variables in new_variables: 0\n",
      "Num. vector variables in new_variables: 66\n",
      "Num. of features if 5 scalars kept from each vector variable: 330\n",
      "\n",
      "Num. variables in total_variables: 115\n",
      "Num. scalar variables in total_variables: 15\n",
      "Num. vector variables in total_variables: 100\n",
      "Num. of features if 5 scalars kept from each vector variable: 515\n",
      "\n"
     ]
    }
   ],
   "source": [
    "for name, variables in zip(['orig', 'new', 'total'], [orig_variables, new_variables, total_variables]):\n",
    "    scalar_vars_subset = [k for k in scalar_vars if k in variables]\n",
    "    vector_vars_subset = [k for k in vector_vars if k in variables]\n",
    "    print(f'Num. variables in {name}_variables: {len(variables)}')\n",
    "    print(f'Num. scalar variables in {name}_variables: {len(scalar_vars_subset)}')\n",
    "    print(f'Num. vector variables in {name}_variables: {len(vector_vars_subset)}')\n",
    "    print(f'Num. of features if {N} scalars kept from each vector variable: {len(scalar_vars_subset) + N * len(vector_vars_subset)}')\n",
    "    print()"
   ]
  },
  {
   "cell_type": "code",
   "execution_count": 11,
   "id": "03596907-7f1d-4e53-834a-3c17161ee884",
   "metadata": {
    "tags": []
   },
   "outputs": [
    {
     "name": "stderr",
     "output_type": "stream",
     "text": [
      "/Users/sheridan/opt/anaconda3/envs/pheno/lib/python3.9/site-packages/awkward/operations/structure.py:2688: DeprecationWarning: an integer is required (got type numpy.float32).  Implicit conversion to integers using __int__ is deprecated, and may be removed in a future version of Python.\n",
      "  out = layout.rpad(target, axis)\n"
     ]
    },
    {
     "name": "stdout",
     "output_type": "stream",
     "text": [
      "duration: 19.89 min\n"
     ]
    }
   ],
   "source": [
    "t1 = timer()\n",
    "data = dataFromROOT(root_file=root_file, \n",
    "                    sort_var='Cpfcan_BtagPf_trackSip2dVal', # impact parameter\n",
    "                    variables=total_variables,\n",
    "                    key=key,\n",
    "                    N=N)\n",
    "t2 = timer()\n",
    "print(f'duration: {round((t2-t1)/60,2)} min')"
   ]
  },
  {
   "cell_type": "code",
   "execution_count": 12,
   "id": "684ae78e-a52b-4d38-a2d8-600f35509b64",
   "metadata": {},
   "outputs": [
    {
     "name": "stdout",
     "output_type": "stream",
     "text": [
      "shape of data: (1806792, 515)\n"
     ]
    }
   ],
   "source": [
    "print(f'shape of data: {data.shape}')"
   ]
  },
  {
   "cell_type": "code",
   "execution_count": 13,
   "id": "f1c486d8-82a7-4066-9add-86466ddc9a6f",
   "metadata": {},
   "outputs": [],
   "source": [
    "def getFeatureNames(scalar_vars, variables, N=5):\n",
    "    feature_names = []\n",
    "    for var in variables:\n",
    "        if var in scalar_vars:\n",
    "            feature_names.append(var)\n",
    "        else:\n",
    "            feature_names.extend([var + f'_{i+1}' for i in range(N)])\n",
    "    return feature_names"
   ]
  },
  {
   "cell_type": "code",
   "execution_count": 14,
   "id": "65721f83-d76b-4f25-be5c-3bc8a3d8a001",
   "metadata": {},
   "outputs": [
    {
     "name": "stdout",
     "output_type": "stream",
     "text": [
      "Num. names of features from total_variables: 515\n"
     ]
    }
   ],
   "source": [
    "orig_feature_names = getFeatureNames(scalar_vars, orig_variables, N=5)\n",
    "new_feature_names = getFeatureNames(scalar_vars, new_variables, N=5)\n",
    "total_feature_names = getFeatureNames(scalar_vars, total_variables, N=5)\n",
    "print(f'Num. names of features from total_variables: {len(total_feature_names)}')"
   ]
  },
  {
   "cell_type": "code",
   "execution_count": 15,
   "id": "09766ef8-bafd-49c9-873e-a5124df31b19",
   "metadata": {},
   "outputs": [],
   "source": [
    "sigInd, bgInd = getSigBgIndices(root_file, key)"
   ]
  },
  {
   "cell_type": "code",
   "execution_count": 16,
   "id": "24908db5-d92e-4277-87c7-8b07fdc9ee64",
   "metadata": {},
   "outputs": [],
   "source": [
    "sig = data[sigInd]\n",
    "bg = data[bgInd]"
   ]
  },
  {
   "cell_type": "code",
   "execution_count": 17,
   "id": "aa13b8b4-86a6-4d23-ad28-39de330ca6d2",
   "metadata": {},
   "outputs": [],
   "source": [
    "X = np.concatenate((sig[:,:len(orig_feature_names)], bg[:,:len(orig_feature_names)]))\n",
    "Y = np.concatenate((np.ones(sig.shape[0]), np.zeros(bg.shape[0])))"
   ]
  },
  {
   "cell_type": "code",
   "execution_count": 18,
   "id": "7bf953a0-f4ca-437e-a8fb-171af34b0850",
   "metadata": {},
   "outputs": [
    {
     "name": "stdout",
     "output_type": "stream",
     "text": [
      "shape of predictors: (1310007, 185)\n",
      "shape of signal jets: (486342, 185)\n",
      "shape of background jets: (823665, 185)\n",
      "shape of labels: (1310007,)\n"
     ]
    }
   ],
   "source": [
    "print(f'shape of predictors: {X.shape}')\n",
    "print(f'shape of signal jets: {X[Y == 1].shape}')\n",
    "print(f'shape of background jets: {X[Y == 0].shape}')\n",
    "print(f'shape of labels: {Y.shape}')"
   ]
  },
  {
   "cell_type": "markdown",
   "id": "66cea193-e055-4328-8936-8634614877f5",
   "metadata": {},
   "source": [
    "Trimming X to contain equal amounts of signal, background"
   ]
  },
  {
   "cell_type": "code",
   "execution_count": 19,
   "id": "7032894c-efa8-4ea7-b483-1553c51b7b7b",
   "metadata": {},
   "outputs": [
    {
     "name": "stdout",
     "output_type": "stream",
     "text": [
      "shape of new, even predictors: (972684, 185)\n",
      "(wanted a length of 972684)\n"
     ]
    }
   ],
   "source": [
    "evenX = np.concatenate([X[Y==1], (X[Y==0])[:np.sum(Y==1)]], axis=0)\n",
    "evenY = np.concatenate([Y[Y==1], (Y[Y==0])[:np.sum(Y==1)]], axis=0)\n",
    "print(f'shape of new, even predictors: {evenX.shape}')\n",
    "print(f'(wanted a length of {np.sum(Y==1)*2})')"
   ]
  },
  {
   "cell_type": "markdown",
   "id": "56c803c8-4038-4e8a-b870-80e17c1213b2",
   "metadata": {},
   "source": [
    "# Understanding $p_T$ + Flat $p_T$ Data Preparation"
   ]
  },
  {
   "cell_type": "code",
   "execution_count": 20,
   "id": "7ef808dd-a713-457f-9cc0-11aa0dc3722f",
   "metadata": {},
   "outputs": [
    {
     "name": "stdout",
     "output_type": "stream",
     "text": [
      "min pT = 14.399 GeV, max pT = 948.367 GeV (signal + background)\n",
      "min pT = 14.629 GeV, max pT = 948.367 GeV (signal)\n",
      "min pT = 14.399 GeV, max pT = 945.904 GeV (background)\n"
     ]
    }
   ],
   "source": [
    "print(f'min pT = {round(np.amin(X[:,0]),3)} GeV, max pT = {round(np.amax(X[:,0]),3)} GeV (signal + background)')\n",
    "print(f'min pT = {round(np.amin(X[Y==1,0]),3)} GeV, max pT = {round(np.amax(X[Y==1,0]),3)} GeV (signal)')\n",
    "print(f'min pT = {round(np.amin(X[Y==0,0]),3)} GeV, max pT = {round(np.amax(X[Y==0,0]),3)} GeV (background)')"
   ]
  },
  {
   "cell_type": "code",
   "execution_count": 21,
   "id": "ab255966-8276-472c-b83e-1d241420df61",
   "metadata": {},
   "outputs": [
    {
     "name": "stdout",
     "output_type": "stream",
     "text": [
      "Number of bins: 24\n"
     ]
    }
   ],
   "source": [
    "bins = np.arange(0, 1000, 40)\n",
    "print(f'Number of bins: {len(bins) - 1}')"
   ]
  },
  {
   "cell_type": "code",
   "execution_count": 92,
   "id": "f26851d0-bd7f-46f5-ad48-82feabcf60c5",
   "metadata": {},
   "outputs": [
    {
     "data": {
      "image/png": "[encoded data removed]",
      "text/plain": [
       "<Figure size 1080x720 with 1 Axes>"
      ]
     },
     "metadata": {
      "needs_background": "light"
     },
     "output_type": "display_data"
    }
   ],
   "source": [
    "with plt.rc_context(settings):\n",
    "    # pt_hist is 3 x len(bins) - 1, rows are signal/bg and cols are heights of histogram for each bin\n",
    "    pt_hist, _, _ = plt.hist(\n",
    "        [X[:, 0], X[Y==0, 0], X[Y==1,0]], \n",
    "        bins=bins, \n",
    "        histtype='step', \n",
    "        label=['BG + Sig.', 'Background', 'Signal'], \n",
    "        color=['tab:green', 'tab:blue', 'tab:red'],\n",
    "        linewidth=6)\n",
    "    plt.legend()\n",
    "    plt.xlabel(r'$p_T$')\n",
    "    plt.ylabel(r'Events')\n",
    "    plt.yscale('log')\n",
    "#     plt.savefig(f'./gbdt_images/three_cases/flat_pt_pt_dist', dpi=200, bbox_inches='tight')"
   ]
  },
  {
   "cell_type": "markdown",
   "id": "5de9d3cb-8100-4a7b-b5c9-fb6208bca62a",
   "metadata": {},
   "source": [
    "Note that the second to last bin is substantially lower than all of the others: we choose to drop that bin and flatten $p_T$ to the smallest bin aside from that one."
   ]
  },
  {
   "cell_type": "code",
   "execution_count": 93,
   "id": "a2ff1339-27eb-4a2e-b9a9-8095f4e49fc3",
   "metadata": {},
   "outputs": [],
   "source": [
    "all_pt_hist, bg_pt_hist, sig_pt_hist = pt_hist\n",
    "binInds = np.digitize(X[:,0], bins) # 1D, len = len of X, element gives index of pT bin for that jet (starting at 1)"
   ]
  },
  {
   "cell_type": "code",
   "execution_count": 24,
   "id": "9eb82613-1e62-4edb-9648-034885cbba2d",
   "metadata": {},
   "outputs": [],
   "source": [
    "def produceFlatPtData(X, Y, sigInd, bgInd, binInds, perBin, lowIndex, highIndex):\n",
    "    flatPtX = []\n",
    "    flatPtY = []\n",
    "    for i in range(np.amin(binInds), np.amax(binInds)):\n",
    "        if np.sum((Y == 1) & (binInds == i)) > np.sum((Y == 0) & (binInds == i)):\n",
    "            numBg = min(int(perBin/2), np.sum((Y == 0) & (binInds == i)))\n",
    "            flatPtX.append((X[(Y == 1) & (binInds == i)])[:perBin-numBg])\n",
    "            flatPtX.append((X[(Y == 0) & (binInds == i)])[:numBg])\n",
    "            flatPtY.append(np.ones(perBin-numBg))\n",
    "            flatPtY.append(np.zeros(numBg))\n",
    "        else:\n",
    "            numSig = min(int(perBin/2), np.sum((Y == 1) & (binInds == i)))\n",
    "            flatPtX.append((X[(Y == 1) & (binInds == i)])[:numSig])\n",
    "            flatPtX.append((X[(Y == 0) & (binInds == i)])[:perBin-numSig])\n",
    "            flatPtY.append(np.ones(numSig))\n",
    "            flatPtY.append(np.zeros(perBin-numSig))\n",
    "    return [np.concatenate(flatPtX, axis=0), np.concatenate(flatPtY, axis=0)]"
   ]
  },
  {
   "cell_type": "code",
   "execution_count": 25,
   "id": "bdca550d-0f3d-4567-bd9a-b9e4e4cef209",
   "metadata": {},
   "outputs": [
    {
     "name": "stdout",
     "output_type": "stream",
     "text": [
      "Jets sampled per bin: 5831\n"
     ]
    }
   ],
   "source": [
    "perBin = int(np.amin(all_pt_hist[:-1]))\n",
    "print(f'Jets sampled per bin: {perBin}')\n",
    "flatPtX, flatPtY = produceFlatPtData(X, Y, sigInd, bgInd, binInds, perBin, np.amin(binInds), np.amax(binInds)-1)"
   ]
  },
  {
   "cell_type": "code",
   "execution_count": 26,
   "id": "7c3a5b66-d381-4f22-851a-e0bf2e7b2ad4",
   "metadata": {},
   "outputs": [
    {
     "name": "stdout",
     "output_type": "stream",
     "text": [
      "Shape of flatPtX: (134113, 185)\n",
      "Shape of flatPtX: (134113,)\n",
      "(We expected 134113 jets)\n"
     ]
    }
   ],
   "source": [
    "print(f'Shape of flatPtX: {flatPtX.shape}')\n",
    "print(f'Shape of flatPtX: {flatPtY.shape}')\n",
    "print(f'(We expected {perBin * ((np.amax(binInds)-1) - np.amin(binInds) + 1)} jets)')"
   ]
  },
  {
   "cell_type": "code",
   "execution_count": 91,
   "id": "477c332e-3d10-40bf-8d21-50aeaa3ef625",
   "metadata": {},
   "outputs": [
    {
     "data": {
      "image/png": "[encoded data removed]",
      "text/plain": [
       "<Figure size 1080x720 with 1 Axes>"
      ]
     },
     "metadata": {
      "needs_background": "light"
     },
     "output_type": "display_data"
    }
   ],
   "source": [
    "with plt.rc_context(settings):\n",
    "    flat_pt_hist, _, _ = plt.hist(\n",
    "        [flatPtX[flatPtY==0, 0], flatPtX[flatPtY==1, 0]], \n",
    "        bins=bins, \n",
    "        histtype='barstacked', \n",
    "        label=['Background', 'Signal'], \n",
    "        color=['tab:blue', 'tab:red'],\n",
    "        linewidth=6)\n",
    "    plt.legend()\n",
    "    plt.xlabel(r'$p_T$')\n",
    "    plt.ylabel(r'Events')\n",
    "#     plt.savefig(f'./gbdt_images/three_cases/flat_pt_pt_dist', dpi=200, bbox_inches='tight')"
   ]
  },
  {
   "cell_type": "code",
   "execution_count": 88,
   "id": "2be7a15f-9a6c-47b7-b356-3ef74987f686",
   "metadata": {},
   "outputs": [],
   "source": [
    "flatPtBinInds = np.digitize(flatPtX[:,0], bins)"
   ]
  },
  {
   "cell_type": "markdown",
   "id": "b1dbecbd-6afa-4c43-8f90-561287fc6be1",
   "metadata": {},
   "source": [
    "Maybe consider $p_T$ for our evenX data?"
   ]
  },
  {
   "cell_type": "code",
   "execution_count": 29,
   "id": "9f59ff93-9392-46b9-a4f9-0887a9a6c1bb",
   "metadata": {},
   "outputs": [
    {
     "data": {
      "image/png": "[encoded data removed]",
      "text/plain": [
       "<Figure size 1080x720 with 1 Axes>"
      ]
     },
     "metadata": {
      "needs_background": "light"
     },
     "output_type": "display_data"
    }
   ],
   "source": [
    "with plt.rc_context(settings):\n",
    "    # pt_hist is 3 x len(bins) - 1, rows are signal/bg and cols are heights of histogram for each bin\n",
    "    even_pt_hist, _, _ = plt.hist(\n",
    "        [evenX[:, 0], evenX[evenY==0, 0], evenX[evenY==1,0]], \n",
    "        bins=bins, \n",
    "        histtype='step', \n",
    "        label=['BG + Sig.', 'Background', 'Signal'], \n",
    "        color=['tab:green', 'tab:blue', 'tab:red'],\n",
    "        linewidth=6)\n",
    "    plt.legend()\n",
    "    plt.xlabel(r'$p_T$')\n",
    "    plt.ylabel(r'Events')\n",
    "    plt.yscale('log')\n",
    "#     plt.savefig(f'./gbdt_images/three_cases/flat_pt_pt_dist', dpi=200, bbox_inches='tight')"
   ]
  },
  {
   "cell_type": "code",
   "execution_count": 89,
   "id": "f8c1523f-5fac-43a5-8e81-17c2314bbdab",
   "metadata": {},
   "outputs": [],
   "source": [
    "even_all_pt_hist, even_bg_pt_hist, even_sig_pt_hist = even_pt_hist\n",
    "evenBinInds = np.digitize(evenX[:,0], bins) # 1D, len = len of X, element gives index of pT bin for that jet (starting at 1)"
   ]
  },
  {
   "cell_type": "markdown",
   "id": "68736607-d337-4185-a57a-cefeffc3551c",
   "metadata": {},
   "source": [
    "# Producing jet weights"
   ]
  },
  {
   "cell_type": "markdown",
   "id": "f704dfd3-d1ad-4a29-8e35-907bd5bcebb5",
   "metadata": {},
   "source": [
    "Idea: weight each jet such that 1) sum over weights = # of jet and 2) weight $\\propto \\frac{1}{\\text{height of bin in } p_T \\text{ dist.}}$ (emulating a flat $p_T$ distribution)"
   ]
  },
  {
   "cell_type": "code",
   "execution_count": 31,
   "id": "e9980618-d25f-474e-adff-ce3574ab2166",
   "metadata": {},
   "outputs": [],
   "source": [
    "binWeights = np.array([len(X)/(height * len(all_pt_hist)) for height in all_pt_hist])\n",
    "weights = [binWeights[bin_num - 1] for bin_num in binInds]"
   ]
  },
  {
   "cell_type": "code",
   "execution_count": 32,
   "id": "cc9fb614-76c4-4037-9f26-355a8d2cd052",
   "metadata": {},
   "outputs": [
    {
     "name": "stdout",
     "output_type": "stream",
     "text": [
      "Sum over weights: 1310007\n",
      "(Wanted this to be 1310007)\n"
     ]
    }
   ],
   "source": [
    "print(f'Sum over weights: {int(np.sum(weights))}')\n",
    "print(f'(Wanted this to be {X.shape[0]})')"
   ]
  },
  {
   "cell_type": "markdown",
   "id": "3cdd0c1d-d712-423d-bac7-c26c1214bee4",
   "metadata": {},
   "source": [
    "Might want to consider weighting signal, background separately, such that weights sum to 50% for both signal and background"
   ]
  },
  {
   "cell_type": "code",
   "execution_count": 33,
   "id": "b45984b0-a3d9-4264-977d-5051c7a5cc9e",
   "metadata": {},
   "outputs": [
    {
     "name": "stdout",
     "output_type": "stream",
     "text": [
      "486342.0\n",
      "486342\n"
     ]
    }
   ],
   "source": [
    "print(np.sum(even_sig_pt_hist))\n",
    "print(np.sum(evenY==1))"
   ]
  },
  {
   "cell_type": "code",
   "execution_count": 34,
   "id": "c09e6013-4b49-47df-a17e-02fb7ed6fdb1",
   "metadata": {},
   "outputs": [],
   "source": [
    "sigEvenBinWeights = np.array([np.sum(evenY==1)/(height * len(even_sig_pt_hist)) for height in even_sig_pt_hist])\n",
    "bgEvenBinWeights = np.array([np.sum(evenY==0)/(height * len(even_bg_pt_hist)) for height in even_bg_pt_hist])\n",
    "evenWeights = np.array([bgEvenBinWeights[bin_num - 1] if y == 0 else sigEvenBinWeights[bin_num - 1] for bin_num, y in zip(evenBinInds, evenY)])"
   ]
  },
  {
   "cell_type": "code",
   "execution_count": 35,
   "id": "04e4a2a3-5a01-40a2-a9aa-dafc7226a514",
   "metadata": {},
   "outputs": [
    {
     "name": "stdout",
     "output_type": "stream",
     "text": [
      "Sum over weights: 972684\n",
      "(Wanted this to be 972684)\n",
      "Sum over signal weights: 486341\n",
      "(Wanted this to be 486342)\n",
      "Sum over background weights: 486342\n",
      "(Wanted this to be 486342)\n"
     ]
    }
   ],
   "source": [
    "print(f'Sum over weights: {int(np.sum(evenWeights))}')\n",
    "print(f'(Wanted this to be {evenX.shape[0]})')\n",
    "print(f'Sum over signal weights: {int(np.sum(evenWeights[evenY==1]))}')\n",
    "print(f'(Wanted this to be {np.sum(evenY==1)})')\n",
    "print(f'Sum over background weights: {int(np.sum(evenWeights[evenY==0]))}')\n",
    "print(f'(Wanted this to be {np.sum(evenY==0)})')"
   ]
  },
  {
   "cell_type": "markdown",
   "id": "67e68d98-cb83-41c1-8bf0-86b38263f172",
   "metadata": {},
   "source": [
    "# Training Models"
   ]
  },
  {
   "cell_type": "code",
   "execution_count": 110,
   "id": "2f093b87-8bbf-42f1-97ac-f632a2da5a6b",
   "metadata": {},
   "outputs": [],
   "source": [
    "X_train, X_test, Y_train, Y_test, weights_train, weights_test, binInds_train, binInds_test = train_test_split(\n",
    "    X, Y, weights, binInds, random_state=0)"
   ]
  },
  {
   "cell_type": "code",
   "execution_count": 111,
   "id": "d2f25b4d-8427-4ce9-ae3d-95079ca9b4f3",
   "metadata": {},
   "outputs": [],
   "source": [
    "flatPt_X_train, flatPt_X_test, flatPt_Y_train, flatPt_Y_test, flatPt_binInds_train, flatPt_binInds_test \\\n",
    "    = train_test_split(flatPtX, flatPtY, flatPtBinInds, random_state=0)"
   ]
  },
  {
   "cell_type": "code",
   "execution_count": 105,
   "id": "2fa48c87-1920-492a-b198-278957321993",
   "metadata": {},
   "outputs": [],
   "source": [
    "even_X_train, even_X_test, even_Y_train, even_Y_test, even_weights_train, even_weights_test, even_binInds_train, \\\n",
    "    even_binInds_test = train_test_split(evenX, evenY, evenWeights, evenBinInds, random_state=0)"
   ]
  },
  {
   "cell_type": "code",
   "execution_count": 65,
   "id": "126384d8-df8e-4fdc-b01f-ea9340877b1c",
   "metadata": {
    "collapsed": true,
    "jupyter": {
     "outputs_hidden": true
    },
    "tags": []
   },
   "outputs": [
    {
     "name": "stdout",
     "output_type": "stream",
     "text": [
      "[0]\tvalidation_0-logloss:0.74655\n",
      "[1]\tvalidation_0-logloss:0.81870\n",
      "[2]\tvalidation_0-logloss:0.81598\n",
      "[3]\tvalidation_0-logloss:0.84826\n",
      "[4]\tvalidation_0-logloss:0.85356\n",
      "[5]\tvalidation_0-logloss:0.92456\n",
      "[6]\tvalidation_0-logloss:0.91961\n",
      "[7]\tvalidation_0-logloss:0.93885\n",
      "[8]\tvalidation_0-logloss:0.86938\n",
      "[9]\tvalidation_0-logloss:0.89795\n",
      "[10]\tvalidation_0-logloss:0.93577\n",
      "[11]\tvalidation_0-logloss:1.00471\n",
      "[12]\tvalidation_0-logloss:0.98537\n",
      "[13]\tvalidation_0-logloss:0.82649\n",
      "[14]\tvalidation_0-logloss:0.89768\n",
      "[15]\tvalidation_0-logloss:0.90488\n",
      "[16]\tvalidation_0-logloss:0.88996\n",
      "[17]\tvalidation_0-logloss:0.92726\n",
      "[18]\tvalidation_0-logloss:0.88928\n",
      "[19]\tvalidation_0-logloss:0.83565\n",
      "[20]\tvalidation_0-logloss:0.85615\n",
      "[21]\tvalidation_0-logloss:0.85350\n",
      "[22]\tvalidation_0-logloss:0.86265\n",
      "[23]\tvalidation_0-logloss:0.85646\n",
      "[24]\tvalidation_0-logloss:0.86379\n",
      "[25]\tvalidation_0-logloss:0.86273\n",
      "[26]\tvalidation_0-logloss:0.94593\n",
      "[27]\tvalidation_0-logloss:0.95792\n",
      "[28]\tvalidation_0-logloss:0.97510\n",
      "[29]\tvalidation_0-logloss:0.97713\n",
      "[30]\tvalidation_0-logloss:0.96131\n",
      "[31]\tvalidation_0-logloss:0.96430\n",
      "[32]\tvalidation_0-logloss:0.97506\n",
      "[33]\tvalidation_0-logloss:0.94927\n",
      "[34]\tvalidation_0-logloss:0.98312\n",
      "[35]\tvalidation_0-logloss:1.00246\n",
      "[36]\tvalidation_0-logloss:0.99778\n",
      "[37]\tvalidation_0-logloss:0.97690\n",
      "[38]\tvalidation_0-logloss:0.97691\n",
      "[39]\tvalidation_0-logloss:0.98270\n",
      "[40]\tvalidation_0-logloss:0.98964\n",
      "[41]\tvalidation_0-logloss:0.99579\n",
      "[42]\tvalidation_0-logloss:0.99503\n",
      "[43]\tvalidation_0-logloss:1.00502\n",
      "[44]\tvalidation_0-logloss:1.01491\n",
      "[45]\tvalidation_0-logloss:1.01412\n",
      "[46]\tvalidation_0-logloss:0.98240\n",
      "[47]\tvalidation_0-logloss:0.99844\n",
      "[48]\tvalidation_0-logloss:1.00839\n",
      "[49]\tvalidation_0-logloss:0.98676\n",
      "[50]\tvalidation_0-logloss:0.98674\n",
      "[51]\tvalidation_0-logloss:0.98674\n",
      "[52]\tvalidation_0-logloss:1.01704\n",
      "[53]\tvalidation_0-logloss:1.01883\n",
      "[54]\tvalidation_0-logloss:1.01457\n",
      "[55]\tvalidation_0-logloss:1.01663\n",
      "[56]\tvalidation_0-logloss:1.02036\n",
      "[57]\tvalidation_0-logloss:1.05409\n",
      "[58]\tvalidation_0-logloss:1.05563\n",
      "[59]\tvalidation_0-logloss:1.05750\n",
      "[60]\tvalidation_0-logloss:1.05282\n",
      "[61]\tvalidation_0-logloss:1.04641\n",
      "[62]\tvalidation_0-logloss:1.03665\n",
      "[63]\tvalidation_0-logloss:1.03838\n",
      "[64]\tvalidation_0-logloss:1.04051\n",
      "[65]\tvalidation_0-logloss:1.04153\n",
      "[66]\tvalidation_0-logloss:1.03761\n",
      "[67]\tvalidation_0-logloss:1.04523\n",
      "[68]\tvalidation_0-logloss:1.04738\n",
      "[69]\tvalidation_0-logloss:1.04842\n",
      "[70]\tvalidation_0-logloss:1.05640\n",
      "[71]\tvalidation_0-logloss:1.06715\n",
      "[72]\tvalidation_0-logloss:1.07633\n",
      "[73]\tvalidation_0-logloss:1.06339\n",
      "[74]\tvalidation_0-logloss:1.04197\n",
      "[75]\tvalidation_0-logloss:1.05932\n",
      "[76]\tvalidation_0-logloss:1.04539\n",
      "[77]\tvalidation_0-logloss:1.06491\n",
      "[78]\tvalidation_0-logloss:1.09478\n",
      "[79]\tvalidation_0-logloss:1.09947\n",
      "[80]\tvalidation_0-logloss:1.10268\n",
      "[81]\tvalidation_0-logloss:1.15953\n",
      "[82]\tvalidation_0-logloss:1.15513\n",
      "[83]\tvalidation_0-logloss:1.14023\n",
      "[84]\tvalidation_0-logloss:1.16179\n",
      "[85]\tvalidation_0-logloss:1.14318\n",
      "[86]\tvalidation_0-logloss:1.14701\n",
      "[87]\tvalidation_0-logloss:1.14995\n",
      "[88]\tvalidation_0-logloss:1.14626\n",
      "[89]\tvalidation_0-logloss:1.15264\n",
      "[90]\tvalidation_0-logloss:1.15714\n",
      "[91]\tvalidation_0-logloss:1.14964\n",
      "[92]\tvalidation_0-logloss:1.15204\n",
      "[93]\tvalidation_0-logloss:1.15679\n",
      "[94]\tvalidation_0-logloss:1.14499\n",
      "[95]\tvalidation_0-logloss:1.21122\n",
      "[96]\tvalidation_0-logloss:1.21223\n",
      "[97]\tvalidation_0-logloss:1.21491\n",
      "[98]\tvalidation_0-logloss:1.21560\n",
      "[99]\tvalidation_0-logloss:1.19100\n",
      "duration: 26.34 min\n"
     ]
    }
   ],
   "source": [
    "t1 = timer()\n",
    "raw_model = make_pipeline(\n",
    "    StandardScaler(), \n",
    "    XGBClassifier(nthread=4, use_label_encoder=False, n_estimators=100));\n",
    "raw_model.fit(X_train, Y_train, xgbclassifier__verbose=True, xgbclassifier__eval_set=[(X_test, Y_test)])\n",
    "model = bcml4pheno.bcml_model(raw_model)\n",
    "t2 = timer()\n",
    "print(f'duration: {round((t2-t1)/60,2)} min')"
   ]
  },
  {
   "cell_type": "code",
   "execution_count": 66,
   "id": "ec3918ba-0f8b-45da-a720-58275694773b",
   "metadata": {
    "collapsed": true,
    "jupyter": {
     "outputs_hidden": true
    },
    "tags": []
   },
   "outputs": [
    {
     "name": "stdout",
     "output_type": "stream",
     "text": [
      "[0]\tvalidation_0-logloss:0.71261\n",
      "[1]\tvalidation_0-logloss:0.70805\n",
      "[2]\tvalidation_0-logloss:0.74298\n",
      "[3]\tvalidation_0-logloss:0.81473\n",
      "[4]\tvalidation_0-logloss:0.85865\n",
      "[5]\tvalidation_0-logloss:0.93526\n",
      "[6]\tvalidation_0-logloss:0.90201\n",
      "[7]\tvalidation_0-logloss:0.95471\n",
      "[8]\tvalidation_0-logloss:0.99626\n",
      "[9]\tvalidation_0-logloss:0.97509\n",
      "[10]\tvalidation_0-logloss:0.98453\n",
      "[11]\tvalidation_0-logloss:0.96919\n",
      "[12]\tvalidation_0-logloss:0.98761\n",
      "[13]\tvalidation_0-logloss:0.98406\n",
      "[14]\tvalidation_0-logloss:0.98277\n",
      "[15]\tvalidation_0-logloss:0.97485\n",
      "[16]\tvalidation_0-logloss:0.95222\n",
      "[17]\tvalidation_0-logloss:1.01853\n",
      "[18]\tvalidation_0-logloss:1.02248\n",
      "[19]\tvalidation_0-logloss:1.10025\n",
      "[20]\tvalidation_0-logloss:1.10181\n",
      "[21]\tvalidation_0-logloss:1.11207\n",
      "[22]\tvalidation_0-logloss:1.23118\n",
      "[23]\tvalidation_0-logloss:1.19818\n",
      "[24]\tvalidation_0-logloss:1.20612\n",
      "[25]\tvalidation_0-logloss:1.20296\n",
      "[26]\tvalidation_0-logloss:1.22015\n",
      "[27]\tvalidation_0-logloss:1.26726\n",
      "[28]\tvalidation_0-logloss:1.28854\n",
      "[29]\tvalidation_0-logloss:1.31684\n",
      "[30]\tvalidation_0-logloss:1.35867\n",
      "[31]\tvalidation_0-logloss:1.34528\n",
      "[32]\tvalidation_0-logloss:1.35215\n",
      "[33]\tvalidation_0-logloss:1.33042\n",
      "[34]\tvalidation_0-logloss:1.38951\n",
      "[35]\tvalidation_0-logloss:1.37727\n",
      "[36]\tvalidation_0-logloss:1.39241\n",
      "[37]\tvalidation_0-logloss:1.40083\n",
      "[38]\tvalidation_0-logloss:1.43908\n",
      "[39]\tvalidation_0-logloss:1.41752\n",
      "[40]\tvalidation_0-logloss:1.40778\n",
      "[41]\tvalidation_0-logloss:1.40658\n",
      "[42]\tvalidation_0-logloss:1.37995\n",
      "[43]\tvalidation_0-logloss:1.36189\n",
      "[44]\tvalidation_0-logloss:1.35269\n",
      "[45]\tvalidation_0-logloss:1.36751\n",
      "[46]\tvalidation_0-logloss:1.35349\n",
      "[47]\tvalidation_0-logloss:1.37675\n",
      "[48]\tvalidation_0-logloss:1.36997\n",
      "[49]\tvalidation_0-logloss:1.33669\n",
      "[50]\tvalidation_0-logloss:1.32994\n",
      "[51]\tvalidation_0-logloss:1.36793\n",
      "[52]\tvalidation_0-logloss:1.37188\n",
      "[53]\tvalidation_0-logloss:1.36880\n",
      "[54]\tvalidation_0-logloss:1.36531\n",
      "[55]\tvalidation_0-logloss:1.38207\n",
      "[56]\tvalidation_0-logloss:1.38776\n",
      "[57]\tvalidation_0-logloss:1.39511\n",
      "[58]\tvalidation_0-logloss:1.41219\n",
      "[59]\tvalidation_0-logloss:1.40525\n",
      "[60]\tvalidation_0-logloss:1.40216\n",
      "[61]\tvalidation_0-logloss:1.38640\n",
      "[62]\tvalidation_0-logloss:1.46922\n",
      "[63]\tvalidation_0-logloss:1.46032\n",
      "[64]\tvalidation_0-logloss:1.46465\n",
      "[65]\tvalidation_0-logloss:1.48139\n",
      "[66]\tvalidation_0-logloss:1.46431\n",
      "[67]\tvalidation_0-logloss:1.47060\n",
      "[68]\tvalidation_0-logloss:1.46972\n",
      "[69]\tvalidation_0-logloss:1.48987\n",
      "[70]\tvalidation_0-logloss:1.48844\n",
      "[71]\tvalidation_0-logloss:1.49608\n",
      "[72]\tvalidation_0-logloss:1.49473\n",
      "[73]\tvalidation_0-logloss:1.52560\n",
      "[74]\tvalidation_0-logloss:1.54090\n",
      "[75]\tvalidation_0-logloss:1.58254\n",
      "[76]\tvalidation_0-logloss:1.58731\n",
      "[77]\tvalidation_0-logloss:1.60579\n",
      "[78]\tvalidation_0-logloss:1.60673\n",
      "[79]\tvalidation_0-logloss:1.60889\n",
      "[80]\tvalidation_0-logloss:1.62499\n",
      "[81]\tvalidation_0-logloss:1.62280\n",
      "[82]\tvalidation_0-logloss:1.62111\n",
      "[83]\tvalidation_0-logloss:1.63983\n",
      "[84]\tvalidation_0-logloss:1.62741\n",
      "[85]\tvalidation_0-logloss:1.62673\n",
      "[86]\tvalidation_0-logloss:1.67174\n",
      "[87]\tvalidation_0-logloss:1.67030\n",
      "[88]\tvalidation_0-logloss:1.68818\n",
      "[89]\tvalidation_0-logloss:1.69057\n",
      "[90]\tvalidation_0-logloss:1.69889\n",
      "[91]\tvalidation_0-logloss:1.70886\n",
      "[92]\tvalidation_0-logloss:1.70899\n",
      "[93]\tvalidation_0-logloss:1.71221\n",
      "[94]\tvalidation_0-logloss:1.68345\n",
      "[95]\tvalidation_0-logloss:1.67613\n",
      "[96]\tvalidation_0-logloss:1.70184\n",
      "[97]\tvalidation_0-logloss:1.70260\n",
      "[98]\tvalidation_0-logloss:1.75945\n",
      "[99]\tvalidation_0-logloss:1.75042\n",
      "duration: 17.85 min\n"
     ]
    }
   ],
   "source": [
    "t1 = timer()\n",
    "even_raw_model = make_pipeline(\n",
    "    StandardScaler(), \n",
    "    XGBClassifier(nthread=4, use_label_encoder=False, n_estimators=100));\n",
    "even_raw_model.fit(even_X_train, even_Y_train, xgbclassifier__verbose=True, \n",
    "                   xgbclassifier__eval_set=[(even_X_test, even_Y_test)])\n",
    "even_model = bcml4pheno.bcml_model(even_raw_model)\n",
    "t2 = timer()\n",
    "print(f'duration: {round((t2-t1)/60,2)} min')"
   ]
  },
  {
   "cell_type": "code",
   "execution_count": 67,
   "id": "590ca389-5cce-4321-9620-7678afd48c3b",
   "metadata": {
    "collapsed": true,
    "jupyter": {
     "outputs_hidden": true
    },
    "tags": []
   },
   "outputs": [
    {
     "name": "stdout",
     "output_type": "stream",
     "text": [
      "[0]\tvalidation_0-logloss:0.60813\n",
      "[1]\tvalidation_0-logloss:0.58721\n",
      "[2]\tvalidation_0-logloss:0.56968\n",
      "[3]\tvalidation_0-logloss:0.59080\n",
      "[4]\tvalidation_0-logloss:0.61176\n",
      "[5]\tvalidation_0-logloss:0.62733\n",
      "[6]\tvalidation_0-logloss:0.64529\n",
      "[7]\tvalidation_0-logloss:0.64923\n",
      "[8]\tvalidation_0-logloss:0.66674\n",
      "[9]\tvalidation_0-logloss:0.63265\n",
      "[10]\tvalidation_0-logloss:0.63439\n",
      "[11]\tvalidation_0-logloss:0.66562\n",
      "[12]\tvalidation_0-logloss:0.62322\n",
      "[13]\tvalidation_0-logloss:0.64599\n",
      "[14]\tvalidation_0-logloss:0.65400\n",
      "[15]\tvalidation_0-logloss:0.63712\n",
      "[16]\tvalidation_0-logloss:0.66997\n",
      "[17]\tvalidation_0-logloss:0.65681\n",
      "[18]\tvalidation_0-logloss:0.65016\n",
      "[19]\tvalidation_0-logloss:0.65764\n",
      "[20]\tvalidation_0-logloss:0.65779\n",
      "[21]\tvalidation_0-logloss:0.67198\n",
      "[22]\tvalidation_0-logloss:0.66470\n",
      "[23]\tvalidation_0-logloss:0.65932\n",
      "[24]\tvalidation_0-logloss:0.67044\n",
      "[25]\tvalidation_0-logloss:0.68074\n",
      "[26]\tvalidation_0-logloss:0.65190\n",
      "[27]\tvalidation_0-logloss:0.66930\n",
      "[28]\tvalidation_0-logloss:0.65942\n",
      "[29]\tvalidation_0-logloss:0.65723\n",
      "[30]\tvalidation_0-logloss:0.66071\n",
      "[31]\tvalidation_0-logloss:0.66095\n",
      "[32]\tvalidation_0-logloss:0.67978\n",
      "[33]\tvalidation_0-logloss:0.67184\n",
      "[34]\tvalidation_0-logloss:0.66712\n",
      "[35]\tvalidation_0-logloss:0.67364\n",
      "[36]\tvalidation_0-logloss:0.67083\n",
      "[37]\tvalidation_0-logloss:0.66087\n",
      "[38]\tvalidation_0-logloss:0.66494\n",
      "[39]\tvalidation_0-logloss:0.64863\n",
      "[40]\tvalidation_0-logloss:0.66657\n",
      "[41]\tvalidation_0-logloss:0.67471\n",
      "[42]\tvalidation_0-logloss:0.67040\n",
      "[43]\tvalidation_0-logloss:0.66954\n",
      "[44]\tvalidation_0-logloss:0.67257\n",
      "[45]\tvalidation_0-logloss:0.68120\n",
      "[46]\tvalidation_0-logloss:0.67929\n",
      "[47]\tvalidation_0-logloss:0.67483\n",
      "[48]\tvalidation_0-logloss:0.67334\n",
      "[49]\tvalidation_0-logloss:0.68040\n",
      "[50]\tvalidation_0-logloss:0.71470\n",
      "[51]\tvalidation_0-logloss:0.71422\n",
      "[52]\tvalidation_0-logloss:0.71565\n",
      "[53]\tvalidation_0-logloss:0.72044\n",
      "[54]\tvalidation_0-logloss:0.72296\n",
      "[55]\tvalidation_0-logloss:0.72353\n",
      "[56]\tvalidation_0-logloss:0.72578\n",
      "[57]\tvalidation_0-logloss:0.72407\n",
      "[58]\tvalidation_0-logloss:0.72038\n",
      "[59]\tvalidation_0-logloss:0.70353\n",
      "[60]\tvalidation_0-logloss:0.69566\n",
      "[61]\tvalidation_0-logloss:0.68773\n",
      "[62]\tvalidation_0-logloss:0.68706\n",
      "[63]\tvalidation_0-logloss:0.71090\n",
      "[64]\tvalidation_0-logloss:0.71316\n",
      "[65]\tvalidation_0-logloss:0.69607\n",
      "[66]\tvalidation_0-logloss:0.69094\n",
      "[67]\tvalidation_0-logloss:0.69425\n",
      "[68]\tvalidation_0-logloss:0.69734\n",
      "[69]\tvalidation_0-logloss:0.68545\n",
      "[70]\tvalidation_0-logloss:0.68479\n",
      "[71]\tvalidation_0-logloss:0.68382\n",
      "[72]\tvalidation_0-logloss:0.68992\n",
      "[73]\tvalidation_0-logloss:0.69859\n",
      "[74]\tvalidation_0-logloss:0.70051\n",
      "[75]\tvalidation_0-logloss:0.70105\n",
      "[76]\tvalidation_0-logloss:0.70104\n",
      "[77]\tvalidation_0-logloss:0.71526\n",
      "[78]\tvalidation_0-logloss:0.69163\n",
      "[79]\tvalidation_0-logloss:0.69604\n",
      "[80]\tvalidation_0-logloss:0.69945\n",
      "[81]\tvalidation_0-logloss:0.69748\n",
      "[82]\tvalidation_0-logloss:0.69268\n",
      "[83]\tvalidation_0-logloss:0.70318\n",
      "[84]\tvalidation_0-logloss:0.70586\n",
      "[85]\tvalidation_0-logloss:0.71569\n",
      "[86]\tvalidation_0-logloss:0.72495\n",
      "[87]\tvalidation_0-logloss:0.76518\n",
      "[88]\tvalidation_0-logloss:0.75267\n",
      "[89]\tvalidation_0-logloss:0.76985\n",
      "[90]\tvalidation_0-logloss:0.75896\n",
      "[91]\tvalidation_0-logloss:0.78564\n",
      "[92]\tvalidation_0-logloss:0.77985\n",
      "[93]\tvalidation_0-logloss:0.78487\n",
      "[94]\tvalidation_0-logloss:0.78983\n",
      "[95]\tvalidation_0-logloss:0.78639\n",
      "[96]\tvalidation_0-logloss:0.77483\n",
      "[97]\tvalidation_0-logloss:0.77705\n",
      "[98]\tvalidation_0-logloss:0.76987\n",
      "[99]\tvalidation_0-logloss:0.77491\n",
      "duration: 2.65 min\n"
     ]
    }
   ],
   "source": [
    "t1 = timer()\n",
    "flatPt_raw_model = make_pipeline(\n",
    "    StandardScaler(), \n",
    "    XGBClassifier(nthread=4, use_label_encoder=False, n_estimators=100));\n",
    "flatPt_raw_model.fit(flatPt_X_train, flatPt_Y_train, xgbclassifier__verbose=True, \n",
    "                     xgbclassifier__eval_set=[(flatPt_X_test, flatPt_Y_test)])\n",
    "flatPT_model = bcml4pheno.bcml_model(flatPt_raw_model)\n",
    "t2 = timer()\n",
    "print(f'duration: {round((t2-t1)/60,2)} min')"
   ]
  },
  {
   "cell_type": "code",
   "execution_count": 68,
   "id": "51335d44-b52f-420d-abeb-101ef345f65d",
   "metadata": {
    "collapsed": true,
    "jupyter": {
     "outputs_hidden": true
    },
    "tags": []
   },
   "outputs": [
    {
     "name": "stdout",
     "output_type": "stream",
     "text": [
      "[0]\tvalidation_0-logloss:0.80563\n",
      "[1]\tvalidation_0-logloss:0.86491\n",
      "[2]\tvalidation_0-logloss:0.88631\n",
      "[3]\tvalidation_0-logloss:1.00748\n",
      "[4]\tvalidation_0-logloss:1.12778\n",
      "[5]\tvalidation_0-logloss:1.08490\n",
      "[6]\tvalidation_0-logloss:1.20168\n",
      "[7]\tvalidation_0-logloss:1.05721\n",
      "[8]\tvalidation_0-logloss:1.12897\n",
      "[9]\tvalidation_0-logloss:0.96978\n",
      "[10]\tvalidation_0-logloss:0.96548\n",
      "[11]\tvalidation_0-logloss:0.97291\n",
      "[12]\tvalidation_0-logloss:1.03395\n",
      "[13]\tvalidation_0-logloss:0.99831\n",
      "[14]\tvalidation_0-logloss:1.04700\n",
      "[15]\tvalidation_0-logloss:1.03290\n",
      "[16]\tvalidation_0-logloss:1.22462\n",
      "[17]\tvalidation_0-logloss:1.29162\n",
      "[18]\tvalidation_0-logloss:1.34121\n",
      "[19]\tvalidation_0-logloss:1.59983\n",
      "[20]\tvalidation_0-logloss:1.69420\n",
      "[21]\tvalidation_0-logloss:1.72826\n",
      "[22]\tvalidation_0-logloss:1.74473\n",
      "[23]\tvalidation_0-logloss:1.70828\n",
      "[24]\tvalidation_0-logloss:1.71893\n",
      "[25]\tvalidation_0-logloss:1.75200\n",
      "[26]\tvalidation_0-logloss:1.72615\n",
      "[27]\tvalidation_0-logloss:2.07095\n",
      "[28]\tvalidation_0-logloss:2.13560\n",
      "[29]\tvalidation_0-logloss:2.10630\n",
      "[30]\tvalidation_0-logloss:2.21139\n",
      "[31]\tvalidation_0-logloss:2.19619\n",
      "[32]\tvalidation_0-logloss:2.19810\n",
      "[33]\tvalidation_0-logloss:2.23235\n",
      "[34]\tvalidation_0-logloss:2.23835\n",
      "[35]\tvalidation_0-logloss:2.28417\n",
      "[36]\tvalidation_0-logloss:2.43312\n",
      "[37]\tvalidation_0-logloss:2.46193\n",
      "[38]\tvalidation_0-logloss:2.43159\n",
      "[39]\tvalidation_0-logloss:2.37642\n",
      "[40]\tvalidation_0-logloss:2.33191\n",
      "[41]\tvalidation_0-logloss:2.33648\n",
      "[42]\tvalidation_0-logloss:2.39310\n",
      "[43]\tvalidation_0-logloss:2.38502\n",
      "[44]\tvalidation_0-logloss:2.37613\n",
      "[45]\tvalidation_0-logloss:2.39769\n",
      "[46]\tvalidation_0-logloss:2.41403\n",
      "[47]\tvalidation_0-logloss:2.44496\n",
      "[48]\tvalidation_0-logloss:2.61744\n",
      "[49]\tvalidation_0-logloss:2.72196\n",
      "[50]\tvalidation_0-logloss:2.72138\n",
      "[51]\tvalidation_0-logloss:2.72879\n",
      "[52]\tvalidation_0-logloss:2.71569\n",
      "[53]\tvalidation_0-logloss:2.70586\n",
      "[54]\tvalidation_0-logloss:2.67483\n",
      "[55]\tvalidation_0-logloss:2.66038\n",
      "[56]\tvalidation_0-logloss:2.65840\n",
      "[57]\tvalidation_0-logloss:2.65199\n",
      "[58]\tvalidation_0-logloss:2.64862\n",
      "[59]\tvalidation_0-logloss:2.67439\n",
      "[60]\tvalidation_0-logloss:2.73245\n",
      "[61]\tvalidation_0-logloss:2.71321\n",
      "[62]\tvalidation_0-logloss:2.72015\n",
      "[63]\tvalidation_0-logloss:2.75867\n",
      "[64]\tvalidation_0-logloss:2.75303\n",
      "[65]\tvalidation_0-logloss:2.91399\n",
      "[66]\tvalidation_0-logloss:2.94413\n",
      "[67]\tvalidation_0-logloss:2.97523\n",
      "[68]\tvalidation_0-logloss:2.96141\n",
      "[69]\tvalidation_0-logloss:2.97461\n",
      "[70]\tvalidation_0-logloss:2.94508\n",
      "[71]\tvalidation_0-logloss:2.91298\n",
      "[72]\tvalidation_0-logloss:2.91118\n",
      "[73]\tvalidation_0-logloss:2.91264\n",
      "[74]\tvalidation_0-logloss:2.87733\n",
      "[75]\tvalidation_0-logloss:2.90682\n",
      "[76]\tvalidation_0-logloss:2.79259\n",
      "[77]\tvalidation_0-logloss:2.85027\n",
      "[78]\tvalidation_0-logloss:2.82357\n",
      "[79]\tvalidation_0-logloss:2.82923\n",
      "[80]\tvalidation_0-logloss:2.82399\n",
      "[81]\tvalidation_0-logloss:2.81049\n",
      "[82]\tvalidation_0-logloss:2.85154\n",
      "[83]\tvalidation_0-logloss:2.83848\n",
      "[84]\tvalidation_0-logloss:2.76292\n",
      "[85]\tvalidation_0-logloss:2.84483\n",
      "[86]\tvalidation_0-logloss:2.84810\n",
      "[87]\tvalidation_0-logloss:2.83962\n",
      "[88]\tvalidation_0-logloss:2.82734\n",
      "[89]\tvalidation_0-logloss:2.83478\n",
      "[90]\tvalidation_0-logloss:2.71383\n",
      "[91]\tvalidation_0-logloss:2.69709\n",
      "[92]\tvalidation_0-logloss:2.67055\n",
      "[93]\tvalidation_0-logloss:2.68201\n",
      "[94]\tvalidation_0-logloss:2.65405\n",
      "[95]\tvalidation_0-logloss:2.62013\n",
      "[96]\tvalidation_0-logloss:2.75078\n",
      "[97]\tvalidation_0-logloss:2.76417\n",
      "[98]\tvalidation_0-logloss:2.77638\n",
      "[99]\tvalidation_0-logloss:2.70329\n",
      "duration: 25.65 min\n"
     ]
    }
   ],
   "source": [
    "t1 = timer()\n",
    "weighted_raw_model = make_pipeline(\n",
    "    StandardScaler(), \n",
    "    XGBClassifier(nthread=4, use_label_encoder=False, n_estimators=100));\n",
    "weighted_raw_model.fit(X_train, Y_train, xgbclassifier__sample_weight=weights_train, xgbclassifier__verbose=True, \n",
    "                       xgbclassifier__eval_set=[(X_test, Y_test)])\n",
    "weighted_model = bcml4pheno.bcml_model(weighted_raw_model)\n",
    "t2 = timer()\n",
    "print(f'duration: {round((t2-t1)/60,2)} min')"
   ]
  },
  {
   "cell_type": "code",
   "execution_count": 69,
   "id": "ac4060a0-199d-462d-ba72-308105195796",
   "metadata": {
    "collapsed": true,
    "jupyter": {
     "outputs_hidden": true
    },
    "tags": []
   },
   "outputs": [
    {
     "name": "stdout",
     "output_type": "stream",
     "text": [
      "[0]\tvalidation_0-logloss:0.64985\n",
      "[1]\tvalidation_0-logloss:0.75008\n",
      "[2]\tvalidation_0-logloss:0.82374\n",
      "[3]\tvalidation_0-logloss:0.77897\n",
      "[4]\tvalidation_0-logloss:0.83149\n",
      "[5]\tvalidation_0-logloss:0.83523\n",
      "[6]\tvalidation_0-logloss:0.82811\n",
      "[7]\tvalidation_0-logloss:0.83199\n",
      "[8]\tvalidation_0-logloss:0.80787\n",
      "[9]\tvalidation_0-logloss:0.86546\n",
      "[10]\tvalidation_0-logloss:0.84991\n",
      "[11]\tvalidation_0-logloss:0.90380\n",
      "[12]\tvalidation_0-logloss:1.02761\n",
      "[13]\tvalidation_0-logloss:1.28683\n",
      "[14]\tvalidation_0-logloss:1.84766\n",
      "[15]\tvalidation_0-logloss:2.00009\n",
      "[16]\tvalidation_0-logloss:2.17205\n",
      "[17]\tvalidation_0-logloss:2.17471\n",
      "[18]\tvalidation_0-logloss:2.17622\n",
      "[19]\tvalidation_0-logloss:2.30753\n",
      "[20]\tvalidation_0-logloss:2.64750\n",
      "[21]\tvalidation_0-logloss:2.78494\n",
      "[22]\tvalidation_0-logloss:2.78601\n",
      "[23]\tvalidation_0-logloss:2.83477\n",
      "[24]\tvalidation_0-logloss:2.93456\n",
      "[25]\tvalidation_0-logloss:2.91489\n",
      "[26]\tvalidation_0-logloss:3.12067\n",
      "[27]\tvalidation_0-logloss:3.38252\n",
      "[28]\tvalidation_0-logloss:3.54967\n",
      "[29]\tvalidation_0-logloss:3.57859\n",
      "[30]\tvalidation_0-logloss:3.63576\n",
      "[31]\tvalidation_0-logloss:3.51081\n",
      "[32]\tvalidation_0-logloss:3.69615\n",
      "[33]\tvalidation_0-logloss:3.74250\n",
      "[34]\tvalidation_0-logloss:3.80366\n",
      "[35]\tvalidation_0-logloss:3.85555\n",
      "[36]\tvalidation_0-logloss:3.83475\n",
      "[37]\tvalidation_0-logloss:3.74883\n",
      "[38]\tvalidation_0-logloss:3.83862\n",
      "[39]\tvalidation_0-logloss:3.98255\n",
      "[40]\tvalidation_0-logloss:4.09298\n",
      "[41]\tvalidation_0-logloss:4.27219\n",
      "[42]\tvalidation_0-logloss:4.22226\n",
      "[43]\tvalidation_0-logloss:4.30684\n",
      "[44]\tvalidation_0-logloss:4.40482\n",
      "[45]\tvalidation_0-logloss:4.34578\n",
      "[46]\tvalidation_0-logloss:4.29456\n",
      "[47]\tvalidation_0-logloss:4.35843\n",
      "[48]\tvalidation_0-logloss:4.71618\n",
      "[49]\tvalidation_0-logloss:4.71364\n",
      "[50]\tvalidation_0-logloss:4.91648\n",
      "[51]\tvalidation_0-logloss:4.95814\n",
      "[52]\tvalidation_0-logloss:4.93489\n",
      "[53]\tvalidation_0-logloss:4.96426\n",
      "[54]\tvalidation_0-logloss:4.89491\n",
      "[55]\tvalidation_0-logloss:4.98205\n",
      "[56]\tvalidation_0-logloss:5.02230\n",
      "[57]\tvalidation_0-logloss:5.03458\n",
      "[58]\tvalidation_0-logloss:5.04513\n",
      "[59]\tvalidation_0-logloss:5.11837\n",
      "[60]\tvalidation_0-logloss:5.27802\n",
      "[61]\tvalidation_0-logloss:5.20452\n",
      "[62]\tvalidation_0-logloss:5.25717\n",
      "[63]\tvalidation_0-logloss:5.45996\n",
      "[64]\tvalidation_0-logloss:5.80659\n",
      "[65]\tvalidation_0-logloss:6.07603\n",
      "[66]\tvalidation_0-logloss:6.21688\n",
      "[67]\tvalidation_0-logloss:6.49725\n",
      "[68]\tvalidation_0-logloss:6.92294\n",
      "[69]\tvalidation_0-logloss:7.46488\n",
      "[70]\tvalidation_0-logloss:7.24087\n",
      "[71]\tvalidation_0-logloss:7.42054\n",
      "[72]\tvalidation_0-logloss:7.40486\n",
      "[73]\tvalidation_0-logloss:7.26481\n",
      "[74]\tvalidation_0-logloss:7.26490\n",
      "[75]\tvalidation_0-logloss:7.51309\n",
      "[76]\tvalidation_0-logloss:7.28870\n",
      "[77]\tvalidation_0-logloss:7.75747\n",
      "[78]\tvalidation_0-logloss:7.76190\n",
      "[79]\tvalidation_0-logloss:8.06392\n",
      "[80]\tvalidation_0-logloss:8.14446\n",
      "[81]\tvalidation_0-logloss:8.14809\n",
      "[82]\tvalidation_0-logloss:8.58239\n",
      "[83]\tvalidation_0-logloss:8.60388\n",
      "[84]\tvalidation_0-logloss:8.68506\n",
      "[85]\tvalidation_0-logloss:8.75111\n",
      "[86]\tvalidation_0-logloss:8.76996\n",
      "[87]\tvalidation_0-logloss:8.78205\n",
      "[88]\tvalidation_0-logloss:8.82670\n",
      "[89]\tvalidation_0-logloss:9.32903\n",
      "[90]\tvalidation_0-logloss:9.53111\n",
      "[91]\tvalidation_0-logloss:9.53637\n",
      "[92]\tvalidation_0-logloss:9.84295\n",
      "[93]\tvalidation_0-logloss:9.85688\n",
      "[94]\tvalidation_0-logloss:9.86377\n",
      "[95]\tvalidation_0-logloss:9.87866\n",
      "[96]\tvalidation_0-logloss:10.28851\n",
      "[97]\tvalidation_0-logloss:10.38017\n",
      "[98]\tvalidation_0-logloss:10.64796\n",
      "[99]\tvalidation_0-logloss:10.65216\n",
      "duration: 17.37 min\n"
     ]
    }
   ],
   "source": [
    "t1 = timer()\n",
    "weighted_even_raw_model = make_pipeline(\n",
    "    StandardScaler(), \n",
    "    XGBClassifier(nthread=4, use_label_encoder=False, n_estimators=100));\n",
    "weighted_even_raw_model.fit(even_X_train, even_Y_train, xgbclassifier__sample_weight=even_weights_train, \n",
    "                            xgbclassifier__verbose=True, \n",
    "                            xgbclassifier__eval_set=[(even_X_test, even_Y_test)])\n",
    "weighted_even_model = bcml4pheno.bcml_model(weighted_even_raw_model)\n",
    "t2 = timer()\n",
    "print(f'duration: {round((t2-t1)/60,2)} min')"
   ]
  },
  {
   "cell_type": "markdown",
   "id": "30a49d8f-e9ff-449f-a9de-0ba476d7bee4",
   "metadata": {},
   "source": [
    "# Visualization Functions"
   ]
  },
  {
   "cell_type": "code",
   "execution_count": 39,
   "id": "bf9b3140-2d5a-441e-83c0-ecbe33d37634",
   "metadata": {},
   "outputs": [],
   "source": [
    "def mlHisto(model, X_train, X_test, Y_train, Y_test):\n",
    "    with plt.rc_context(settings):\n",
    "        fig, axes = plt.subplots(nrows=1, ncols=2, figsize=(24, 12))\n",
    "        bin_edges, sig_bins_train, bg_bins_train = model.predict_hist(X_train, Y_train, num_bins=40)\n",
    "        bin_edges, sig_bins_test, bg_bins_test = model.predict_hist(X_test, Y_test, num_bins=40)\n",
    "        axes[0].bar(bin_edges[:-1], sig_bins_train, width=np.diff(bin_edges), alpha=0.75, align=\"edge\", \n",
    "                    label=\"Signal (Train)\", color='tab:blue')\n",
    "        axes[0].bar(bin_edges[:-1], bg_bins_train, width=np.diff(bin_edges), alpha=0.75, align=\"edge\", \n",
    "                    label=\"BG (Train)\", color='gray')\n",
    "        axes[1].bar(bin_edges[:-1], sig_bins_test, width=np.diff(bin_edges), alpha=0.75, align=\"edge\", \n",
    "                    label=\"Signal (Test)\", color='tab:red')\n",
    "        axes[1].bar(bin_edges[:-1], bg_bins_test, width=np.diff(bin_edges), alpha=0.75, align=\"edge\", \n",
    "                    label=\"BG (Test)\", color='gray')\n",
    "        for axis in axes:\n",
    "            axis.set_yscale('log')\n",
    "            axis.set_ylim(10**-3, 10**2)\n",
    "            axis.set_xlim(0, 1)\n",
    "            axis.set_xlabel('Predicted Signal Probability')\n",
    "            axis.set_ylabel('a.u.')\n",
    "            axis.legend()"
   ]
  },
  {
   "cell_type": "code",
   "execution_count": 142,
   "id": "179cc4f5-bc7a-4b3d-a0e4-bc3950eeef2c",
   "metadata": {},
   "outputs": [],
   "source": [
    "def getTPRandFPR(model, threshold, X, Y, binInd):\n",
    "    tprs = []\n",
    "    fprs = []\n",
    "    predict = model.predict(X, threshold=threshold)\n",
    "    for i in range(np.amin(binInd), np.amax(binInd)+1):\n",
    "        tprs.append(np.sum((Y==1) & (predict==1) & (binInd == i)) / np.sum((Y==1) & (binInd == i)))\n",
    "        fprs.append(np.sum((Y==0) & (predict==1) & (binInd == i)) / np.sum((Y==0) & (binInd == i)))\n",
    "    return [tprs, fprs]"
   ]
  },
  {
   "cell_type": "code",
   "execution_count": 138,
   "id": "9c93f86f-d8c0-4ed4-9fce-15b1a89f9824",
   "metadata": {},
   "outputs": [],
   "source": [
    "def dotsAndCurvePlot(endpoints, fs, xss, yss, labels, ylabel, xlabel='$p_T$', ylim=None):\n",
    "    a, b = endpoints\n",
    "    pts = np.linspace(a, b, 500)\n",
    "    with plt.rc_context(settings):\n",
    "        for f, xs, ys, label in zip(fs, xss, yss, labels):\n",
    "            plt.plot(pts, [f(pt) for pt in pts], label=label)\n",
    "            plt.scatter(xs, ys)\n",
    "        plt.ylabel(r\"{}\".format(ylabel));\n",
    "        plt.xlabel(r\"{}\".format(xlabel));\n",
    "        plt.yscale('log')\n",
    "        plt.legend()\n",
    "        if ylim:\n",
    "            plt.ylim(*ylim)"
   ]
  },
  {
   "cell_type": "code",
   "execution_count": 143,
   "id": "8d656306-0146-4e33-b09e-5687b0e0fe20",
   "metadata": {},
   "outputs": [],
   "source": [
    "models = [model, even_model, flatPT_model, weighted_model, weighted_even_model]\n",
    "names = ['Normal', 'Even', 'Flat $p_T$', 'Weighted', 'Even Weighted']\n",
    "train_Xs = [X_train, even_X_train, flatPt_X_train, X_train, even_X_train]\n",
    "train_Ys = [Y_train, even_Y_train, flatPt_Y_train, Y_train, even_Y_train]\n",
    "test_Xs = [X_test, even_X_test, flatPt_X_test, X_test, even_X_test]\n",
    "test_Ys = [Y_test, even_Y_test, flatPt_Y_test, Y_test, even_Y_test]\n",
    "binIndss = [binInds_test, even_binInds_test, flatPt_binInds_test, binInds_test, even_binInds_test]\n",
    "threshold = 0.975\n",
    "tprsAndFprs = [\n",
    "    getTPRandFPR(model, threshold, X, Y, binInds) for model, X, Y, binInds in zip(models, test_Xs, test_Ys, binIndss)]\n",
    "tprs = [elem[0] for elem in tprsAndFprs]\n",
    "fprs = [elem[1] for elem in tprsAndFprs]\n",
    "midpoints = (bins[1:] + bins[:-1]) / 2\n",
    "tpr_fs = [scipy.interpolate.interp1d(midpoints[:len(tpr)], tpr, kind='linear') for tpr in tprs]\n",
    "fpr_fs = [scipy.interpolate.interp1d(midpoints[:len(fpr)], fpr, kind='linear') for fpr in fprs]"
   ]
  },
  {
   "cell_type": "code",
   "execution_count": 123,
   "id": "31a2a110-40cb-4de2-81bb-81a41fbd982c",
   "metadata": {},
   "outputs": [
    {
     "data": {
      "text/plain": [
       "<Figure size 1728x864 with 0 Axes>"
      ]
     },
     "metadata": {},
     "output_type": "display_data"
    },
    {
     "data": {
      "text/plain": [
       "<Figure size 1728x864 with 0 Axes>"
      ]
     },
     "metadata": {},
     "output_type": "display_data"
    },
    {
     "data": {
      "text/plain": [
       "<Figure size 1728x864 with 0 Axes>"
      ]
     },
     "metadata": {},
     "output_type": "display_data"
    },
    {
     "data": {
      "text/plain": [
       "<Figure size 1728x864 with 0 Axes>"
      ]
     },
     "metadata": {},
     "output_type": "display_data"
    },
    {
     "data": {
      "text/plain": [
       "<Figure size 1728x864 with 0 Axes>"
      ]
     },
     "metadata": {},
     "output_type": "display_data"
    }
   ],
   "source": [
    "for model, train_Xs, train_Ys, test_Xs, test_Ys, name in zip(models, train_Xs, train_Ys, test_Xs, test_Ys, names):\n",
    "    with plt.rc_context(settings):\n",
    "        mlHisto(model, X_train, X_test, Y_train, Y_test)\n",
    "        plt.suptitle(name)\n",
    "        plt.savefig(f'./02_24_images/{name}_output', dpi=200, bbox_inches='tight')\n",
    "        plt.clf()"
   ]
  },
  {
   "cell_type": "code",
   "execution_count": 153,
   "id": "4e368e9a-d5e4-488b-b1f4-daad0ce54f81",
   "metadata": {},
   "outputs": [
    {
     "data": {
      "image/png": "[encoded data removed]",
      "text/plain": [
       "<Figure size 1080x720 with 1 Axes>"
      ]
     },
     "metadata": {
      "needs_background": "light"
     },
     "output_type": "display_data"
    }
   ],
   "source": [
    "dotsAndCurvePlot([midpoints[0], midpoints[-2]], \n",
    "                 [f for f in tpr_fs], \n",
    "                 [midpoints[:23]]*len(tprs), \n",
    "                 [row[:23] for row in tprs], \n",
    "                 names, \n",
    "                 f'TPR (threshold = {threshold})', \n",
    "                 ylim=None)\n",
    "plt.ylim(0.28, 1)\n",
    "plt.yticks(ticks=[i/10 for i in range(3,11)])\n",
    "plt.savefig(f'./02_24_images/tprs', dpi=200, bbox_inches='tight')"
   ]
  },
  {
   "cell_type": "code",
   "execution_count": 148,
   "id": "1dc58439-f32b-4480-b597-21cb848ae568",
   "metadata": {},
   "outputs": [
    {
     "data": {
      "image/png": "[encoded data removed]",
      "text/plain": [
       "<Figure size 1080x720 with 1 Axes>"
      ]
     },
     "metadata": {
      "needs_background": "light"
     },
     "output_type": "display_data"
    }
   ],
   "source": [
    "dotsAndCurvePlot([midpoints[0], midpoints[-2]], \n",
    "                 [f for f in fpr_fs], \n",
    "                 [midpoints[:23]]*len(fprs), \n",
    "                 [row[:23] for row in fprs], \n",
    "                 names, \n",
    "                 f'FPR (threshold = {threshold})', \n",
    "                 ylim=None)\n",
    "plt.savefig(f'./02_24_images/fprs', dpi=200, bbox_inches='tight')"
   ]
  },
  {
   "cell_type": "markdown",
   "id": "d93cc1f0-9988-4bea-8f6a-483c6cf6fd74",
   "metadata": {},
   "source": [
    "# Understanding New Variables"
   ]
  },
  {
   "cell_type": "code",
   "execution_count": 42,
   "id": "4b365fcc-939b-419c-8dc1-9dab0f18c126",
   "metadata": {},
   "outputs": [],
   "source": [
    "relevant = np.concatenate([sigInd, bgInd])\n",
    "relevant_data = data[relevant]"
   ]
  },
  {
   "cell_type": "code",
   "execution_count": 56,
   "id": "ccb6f275-9ad9-4438-ac8e-9c2800f977b8",
   "metadata": {},
   "outputs": [
    {
     "name": "stdout",
     "output_type": "stream",
     "text": [
      "Shape of relevant_data: (1310007, 515)\n"
     ]
    }
   ],
   "source": [
    "print(f'Shape of relevant_data: {relevant_data.shape}')"
   ]
  },
  {
   "cell_type": "code",
   "execution_count": 154,
   "id": "af41c3a6-cb2f-48da-91f2-3d13a0a53fe4",
   "metadata": {},
   "outputs": [
    {
     "name": "stdout",
     "output_type": "stream",
     "text": [
      "330\n"
     ]
    }
   ],
   "source": [
    "print(len(new_feature_names))"
   ]
  },
  {
   "cell_type": "code",
   "execution_count": 43,
   "id": "ef56af79-1fa9-4325-a19a-3954d4efd134",
   "metadata": {},
   "outputs": [
    {
     "name": "stdout",
     "output_type": "stream",
     "text": [
      "duration: 13.93 min\n"
     ]
    }
   ],
   "source": [
    "t1 = timer()\n",
    "good_new_feature_names = [\n",
    "    feature for i, feature in enumerate(new_feature_names) if not np.all(relevant_data[:,len(orig_feature_names)+i] == -100)]\n",
    "t2 = timer()\n",
    "print(f'duration: {round((t2-t1)/60,2)} min')"
   ]
  },
  {
   "cell_type": "code",
   "execution_count": 44,
   "id": "cc9ff990-38c7-4fd7-a1fa-30761fb6c0db",
   "metadata": {},
   "outputs": [
    {
     "name": "stdout",
     "output_type": "stream",
     "text": [
      "# of new features: 330; # of non-trivial new features: 175\n"
     ]
    }
   ],
   "source": [
    "print(f'# of new features: {len(new_feature_names)}; # of non-trivial new features: {len(good_new_feature_names)}')"
   ]
  },
  {
   "cell_type": "code",
   "execution_count": 155,
   "id": "f53295aa-558e-47f6-8e6b-ac1abeb9bf9c",
   "metadata": {
    "tags": []
   },
   "outputs": [
    {
     "name": "stdout",
     "output_type": "stream",
     "text": [
      "\"numberOfValidHits_1\",\n",
      "\"numberOfValidHits_2\",\n",
      "\"numberOfValidHits_3\",\n",
      "\"numberOfValidHits_4\",\n",
      "\"numberOfValidHits_5\",\n",
      "\"numberOfValidTrackerHits_1\",\n",
      "\"numberOfValidTrackerHits_2\",\n",
      "\"numberOfValidTrackerHits_3\",\n",
      "\"numberOfValidTrackerHits_4\",\n",
      "\"numberOfValidTrackerHits_5\",\n",
      "\"numberOfValidPixelHits_1\",\n",
      "\"numberOfValidPixelHits_2\",\n",
      "\"numberOfValidPixelHits_3\",\n",
      "\"numberOfValidPixelHits_4\",\n",
      "\"numberOfValidPixelHits_5\",\n",
      "\"numberOfValidPixelBarrelHits_1\",\n",
      "\"numberOfValidPixelBarrelHits_2\",\n",
      "\"numberOfValidPixelBarrelHits_3\",\n",
      "\"numberOfValidPixelBarrelHits_4\",\n",
      "\"numberOfValidPixelBarrelHits_5\",\n",
      "\"numberOfValidPixelEndcapHits_1\",\n",
      "\"numberOfValidPixelEndcapHits_2\",\n",
      "\"numberOfValidPixelEndcapHits_3\",\n",
      "\"numberOfValidPixelEndcapHits_4\",\n",
      "\"numberOfValidPixelEndcapHits_5\",\n",
      "\"numberOfValidStripHits_1\",\n",
      "\"numberOfValidStripHits_2\",\n",
      "\"numberOfValidStripHits_3\",\n",
      "\"numberOfValidStripHits_4\",\n",
      "\"numberOfValidStripHits_5\",\n",
      "\"numberOfValidStripTIBHits_1\",\n",
      "\"numberOfValidStripTIBHits_2\",\n",
      "\"numberOfValidStripTIBHits_3\",\n",
      "\"numberOfValidStripTIBHits_4\",\n",
      "\"numberOfValidStripTIBHits_5\",\n",
      "\"numberOfValidStripTIDHits_1\",\n",
      "\"numberOfValidStripTIDHits_2\",\n",
      "\"numberOfValidStripTIDHits_3\",\n",
      "\"numberOfValidStripTIDHits_4\",\n",
      "\"numberOfValidStripTIDHits_5\",\n",
      "\"numberOfValidStripTOBHits_1\",\n",
      "\"numberOfValidStripTOBHits_2\",\n",
      "\"numberOfValidStripTOBHits_3\",\n",
      "\"numberOfValidStripTOBHits_4\",\n",
      "\"numberOfValidStripTOBHits_5\",\n",
      "\"numberOfValidStripTECHits_1\",\n",
      "\"numberOfValidStripTECHits_2\",\n",
      "\"numberOfValidStripTECHits_3\",\n",
      "\"numberOfValidStripTECHits_4\",\n",
      "\"numberOfValidStripTECHits_5\",\n",
      "\"numberOfValidStripLayersWithMonoAndStereo_1\",\n",
      "\"numberOfValidStripLayersWithMonoAndStereo_2\",\n",
      "\"numberOfValidStripLayersWithMonoAndStereo_3\",\n",
      "\"numberOfValidStripLayersWithMonoAndStereo_4\",\n",
      "\"numberOfValidStripLayersWithMonoAndStereo_5\",\n",
      "\"numberOfValidTOBLayersWithMonoAndStereo_1\",\n",
      "\"numberOfValidTOBLayersWithMonoAndStereo_2\",\n",
      "\"numberOfValidTOBLayersWithMonoAndStereo_3\",\n",
      "\"numberOfValidTOBLayersWithMonoAndStereo_4\",\n",
      "\"numberOfValidTOBLayersWithMonoAndStereo_5\",\n",
      "\"numberOfValidTIBLayersWithMonoAndStereo_1\",\n",
      "\"numberOfValidTIBLayersWithMonoAndStereo_2\",\n",
      "\"numberOfValidTIBLayersWithMonoAndStereo_3\",\n",
      "\"numberOfValidTIBLayersWithMonoAndStereo_4\",\n",
      "\"numberOfValidTIBLayersWithMonoAndStereo_5\",\n",
      "\"numberOfValidTIDLayersWithMonoAndStereo_1\",\n",
      "\"numberOfValidTIDLayersWithMonoAndStereo_2\",\n",
      "\"numberOfValidTIDLayersWithMonoAndStereo_3\",\n",
      "\"numberOfValidTIDLayersWithMonoAndStereo_4\",\n",
      "\"numberOfValidTIDLayersWithMonoAndStereo_5\",\n",
      "\"numberOfValidTECLayersWithMonoAndStereo_1\",\n",
      "\"numberOfValidTECLayersWithMonoAndStereo_2\",\n",
      "\"numberOfValidTECLayersWithMonoAndStereo_3\",\n",
      "\"numberOfValidTECLayersWithMonoAndStereo_4\",\n",
      "\"numberOfValidTECLayersWithMonoAndStereo_5\",\n",
      "\"trackerLayersWithMeasurementOld_1\",\n",
      "\"trackerLayersWithMeasurementOld_2\",\n",
      "\"trackerLayersWithMeasurementOld_3\",\n",
      "\"trackerLayersWithMeasurementOld_4\",\n",
      "\"trackerLayersWithMeasurementOld_5\",\n",
      "\"trackerLayersWithMeasurement_1\",\n",
      "\"trackerLayersWithMeasurement_2\",\n",
      "\"trackerLayersWithMeasurement_3\",\n",
      "\"trackerLayersWithMeasurement_4\",\n",
      "\"trackerLayersWithMeasurement_5\",\n",
      "\"pixelLayersWithMeasurementOld_1\",\n",
      "\"pixelLayersWithMeasurementOld_2\",\n",
      "\"pixelLayersWithMeasurementOld_3\",\n",
      "\"pixelLayersWithMeasurementOld_4\",\n",
      "\"pixelLayersWithMeasurementOld_5\",\n",
      "\"pixelLayersWithMeasurement_1\",\n",
      "\"pixelLayersWithMeasurement_2\",\n",
      "\"pixelLayersWithMeasurement_3\",\n",
      "\"pixelLayersWithMeasurement_4\",\n",
      "\"pixelLayersWithMeasurement_5\",\n",
      "\"stripLayersWithMeasurement_1\",\n",
      "\"stripLayersWithMeasurement_2\",\n",
      "\"stripLayersWithMeasurement_3\",\n",
      "\"stripLayersWithMeasurement_4\",\n",
      "\"stripLayersWithMeasurement_5\",\n",
      "\"pixelBarrelLayersWithMeasurement_1\",\n",
      "\"pixelBarrelLayersWithMeasurement_2\",\n",
      "\"pixelBarrelLayersWithMeasurement_3\",\n",
      "\"pixelBarrelLayersWithMeasurement_4\",\n",
      "\"pixelBarrelLayersWithMeasurement_5\",\n",
      "\"pixelEndcapLayersWithMeasurement_1\",\n",
      "\"pixelEndcapLayersWithMeasurement_2\",\n",
      "\"pixelEndcapLayersWithMeasurement_3\",\n",
      "\"pixelEndcapLayersWithMeasurement_4\",\n",
      "\"pixelEndcapLayersWithMeasurement_5\",\n",
      "\"stripTIBLayersWithMeasurement_1\",\n",
      "\"stripTIBLayersWithMeasurement_2\",\n",
      "\"stripTIBLayersWithMeasurement_3\",\n",
      "\"stripTIBLayersWithMeasurement_4\",\n",
      "\"stripTIBLayersWithMeasurement_5\",\n",
      "\"stripTIDLayersWithMeasurement_1\",\n",
      "\"stripTIDLayersWithMeasurement_2\",\n",
      "\"stripTIDLayersWithMeasurement_3\",\n",
      "\"stripTIDLayersWithMeasurement_4\",\n",
      "\"stripTIDLayersWithMeasurement_5\",\n",
      "\"stripTOBLayersWithMeasurement_1\",\n",
      "\"stripTOBLayersWithMeasurement_2\",\n",
      "\"stripTOBLayersWithMeasurement_3\",\n",
      "\"stripTOBLayersWithMeasurement_4\",\n",
      "\"stripTOBLayersWithMeasurement_5\",\n",
      "\"stripTECLayersWithMeasurement_1\",\n",
      "\"stripTECLayersWithMeasurement_2\",\n",
      "\"stripTECLayersWithMeasurement_3\",\n",
      "\"stripTECLayersWithMeasurement_4\",\n",
      "\"stripTECLayersWithMeasurement_5\",\n",
      "\"trackerLayersNull_1\",\n",
      "\"trackerLayersNull_2\",\n",
      "\"trackerLayersNull_3\",\n",
      "\"trackerLayersNull_4\",\n",
      "\"trackerLayersNull_5\",\n",
      "\"pixelLayersNull_1\",\n",
      "\"pixelLayersNull_2\",\n",
      "\"pixelLayersNull_3\",\n",
      "\"pixelLayersNull_4\",\n",
      "\"pixelLayersNull_5\",\n",
      "\"stripLayersNull_1\",\n",
      "\"stripLayersNull_2\",\n",
      "\"stripLayersNull_3\",\n",
      "\"stripLayersNull_4\",\n",
      "\"stripLayersNull_5\",\n",
      "\"pixelBarrelLayersNull_1\",\n",
      "\"pixelBarrelLayersNull_2\",\n",
      "\"pixelBarrelLayersNull_3\",\n",
      "\"pixelBarrelLayersNull_4\",\n",
      "\"pixelBarrelLayersNull_5\",\n",
      "\"pixelEndcapLayersNull_1\",\n",
      "\"pixelEndcapLayersNull_2\",\n",
      "\"pixelEndcapLayersNull_3\",\n",
      "\"pixelEndcapLayersNull_4\",\n",
      "\"pixelEndcapLayersNull_5\",\n",
      "\"stripTIBLayersNull_1\",\n",
      "\"stripTIBLayersNull_2\",\n",
      "\"stripTIBLayersNull_3\",\n",
      "\"stripTIBLayersNull_4\",\n",
      "\"stripTIBLayersNull_5\",\n",
      "\"stripTIDLayersNull_1\",\n",
      "\"stripTIDLayersNull_2\",\n",
      "\"stripTIDLayersNull_3\",\n",
      "\"stripTIDLayersNull_4\",\n",
      "\"stripTIDLayersNull_5\",\n",
      "\"stripTOBLayersNull_1\",\n",
      "\"stripTOBLayersNull_2\",\n",
      "\"stripTOBLayersNull_3\",\n",
      "\"stripTOBLayersNull_4\",\n",
      "\"stripTOBLayersNull_5\",\n",
      "\"stripTECLayersNull_1\",\n",
      "\"stripTECLayersNull_2\",\n",
      "\"stripTECLayersNull_3\",\n",
      "\"stripTECLayersNull_4\",\n",
      "\"stripTECLayersNull_5\",\n"
     ]
    }
   ],
   "source": [
    "for feature in good_new_feature_names:\n",
    "    print(f'\"{feature}\",')"
   ]
  },
  {
   "cell_type": "code",
   "execution_count": 45,
   "id": "34ce860f-9198-4ccf-8350-6619a5b56fb2",
   "metadata": {},
   "outputs": [],
   "source": [
    "good_feature_indices = [total_feature_names.index(feature) for feature in orig_feature_names + good_new_feature_names]"
   ]
  },
  {
   "cell_type": "code",
   "execution_count": 54,
   "id": "e1bf4437-e282-48d9-a6ca-e6fd6fe97828",
   "metadata": {},
   "outputs": [
    {
     "name": "stdout",
     "output_type": "stream",
     "text": [
      "Number of good features: 360 (original + good new)\n"
     ]
    }
   ],
   "source": [
    "print(f'Number of good features: {len(good_feature_indices)} (original + good new)')"
   ]
  },
  {
   "cell_type": "code",
   "execution_count": 57,
   "id": "8cebd881-6f38-4fef-ba49-32bd688fb2fa",
   "metadata": {},
   "outputs": [
    {
     "name": "stdout",
     "output_type": "stream",
     "text": [
      "duration: 15.46 min\n"
     ]
    }
   ],
   "source": [
    "t1 = timer()\n",
    "newX = np.transpose(np.transpose(relevant_data)[good_feature_indices])\n",
    "newY = np.concatenate([np.ones_like(sigInd), np.zeros_like(bgInd)])\n",
    "t2 = timer()\n",
    "print(f'duration: {round((t2-t1)/60,2)} min')"
   ]
  },
  {
   "cell_type": "code",
   "execution_count": 58,
   "id": "bf1662c0-4e7f-4276-a323-cdcaca4f644a",
   "metadata": {},
   "outputs": [],
   "source": [
    "newX = np.where(newX == -100, np.zeros_like(newX), newX)"
   ]
  },
  {
   "cell_type": "code",
   "execution_count": 158,
   "id": "16b2a0c7-5c11-4774-b73b-2b95300fd0d5",
   "metadata": {},
   "outputs": [
    {
     "data": {
      "text/plain": [
       "<Figure size 1080x720 with 0 Axes>"
      ]
     },
     "metadata": {},
     "output_type": "display_data"
    }
   ],
   "source": [
    "for i, name in enumerate(good_new_feature_names):\n",
    "    with plt.rc_context(settings):\n",
    "        bins = np.arange(-0.5, np.amax(newX[:,len(orig_feature_names)+i])+0.5, 1)\n",
    "        pt_hist, _, _ = plt.hist(\n",
    "            [newX[newY==0, len(orig_feature_names)+i], newX[newY==1, len(orig_feature_names)+i]],\n",
    "            bins=bins,\n",
    "            histtype='step',\n",
    "            label=['Background', 'Signal'], \n",
    "            color=['tab:blue', 'tab:red'],\n",
    "            linewidth=6, \n",
    "            density=True)\n",
    "        plt.legend()\n",
    "        plt.xlabel(name)\n",
    "        plt.ylabel(r'a.u.')\n",
    "        plt.yscale('log')\n",
    "        plt.savefig(f'./02_24_images/new_feature_histos/{name}', dpi=200, bbox_inches='tight')\n",
    "        plt.clf()"
   ]
  },
  {
   "cell_type": "markdown",
   "id": "28eb0759-c45b-432a-a418-663c9b08a0ac",
   "metadata": {},
   "source": [
    "Train on all features?"
   ]
  }
 ],
 "metadata": {
  "kernelspec": {
   "display_name": "Python 3 (ipykernel)",
   "language": "python",
   "name": "python3"
  },
  "language_info": {
   "codemirror_mode": {
    "name": "ipython",
    "version": 3
   },
   "file_extension": ".py",
   "mimetype": "text/x-python",
   "name": "python",
   "nbconvert_exporter": "python",
   "pygments_lexer": "ipython3",
   "version": "3.9.7"
  }
 },
 "nbformat": 4,
 "nbformat_minor": 5
}
